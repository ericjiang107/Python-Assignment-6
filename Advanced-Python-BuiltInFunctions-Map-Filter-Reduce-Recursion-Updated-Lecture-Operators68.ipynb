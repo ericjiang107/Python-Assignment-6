{
 "cells": [
  {
   "cell_type": "markdown",
   "metadata": {},
   "source": [
    "# Map, Filter, Reduce, Lambda & Recursion"
   ]
  },
  {
   "cell_type": "markdown",
   "metadata": {},
   "source": [
    "## Tasks Today:\n",
    "\n",
    "1) <b>Lambda Functions</b> <br>\n",
    " &nbsp;&nbsp;&nbsp;&nbsp; a) Syntax <br>\n",
    " &nbsp;&nbsp;&nbsp;&nbsp; b) Saving to a Variable <br>\n",
    " &nbsp;&nbsp;&nbsp;&nbsp; c) Multiple Inputs <br>\n",
    " &nbsp;&nbsp;&nbsp;&nbsp; d) Passing a Lambda into a Function <br>\n",
    " &nbsp;&nbsp;&nbsp;&nbsp; e) Returning a Lambda from a Function <br>\n",
    " &nbsp;&nbsp;&nbsp;&nbsp; f) In-Class Exercise #1 <br>\n",
    "2) <b>Map</b> <br>\n",
    " &nbsp;&nbsp;&nbsp;&nbsp; a) Syntax <br>\n",
    " &nbsp;&nbsp;&nbsp;&nbsp; b) Using Lambda's with Map <br>\n",
    " &nbsp;&nbsp;&nbsp;&nbsp; c) In-Class Exercise #2 <br>\n",
    "3) <b>Filter</b> <br>\n",
    " &nbsp;&nbsp;&nbsp;&nbsp; a) Syntax <br>\n",
    " &nbsp;&nbsp;&nbsp;&nbsp; b) Using Lambda's with Filter <br>\n",
    " &nbsp;&nbsp;&nbsp;&nbsp; c) In-Class Exercise #3 <br>\n",
    "4) <b>Reduce</b> <br>\n",
    " &nbsp;&nbsp;&nbsp;&nbsp; a) Syntax <br>\n",
    " &nbsp;&nbsp;&nbsp;&nbsp; b) Using Lambda's with Reduce <br>\n",
    " &nbsp;&nbsp;&nbsp;&nbsp; c) In-Class Exercise #4 <br>\n",
    "5) <b>Recursion</b> <br>\n",
    " &nbsp;&nbsp;&nbsp;&nbsp; a) Implementing a Base <br>\n",
    " &nbsp;&nbsp;&nbsp;&nbsp; b) Writing a Factorial Function <br>\n",
    " &nbsp;&nbsp;&nbsp;&nbsp; c) In-Class Exercise #5 <br>\n",
    "6) <b>Generators & Iterators</b> <br>\n",
    " &nbsp;&nbsp;&nbsp;&nbsp; a) Yield Keyword <br>\n",
    " &nbsp;&nbsp;&nbsp;&nbsp; b) Inifinite Generator <br>\n",
    " &nbsp;&nbsp;&nbsp;&nbsp; c) In-Class Exercise #6 <br>\n",
    "7) <b>Exercises</b> <br>\n",
    " &nbsp;&nbsp;&nbsp;&nbsp; a) Exercise #1 - Filtering Empty Strings <br>\n",
    " &nbsp;&nbsp;&nbsp;&nbsp; b) Exercise #2 - Sorting with Last Name <br>\n",
    " &nbsp;&nbsp;&nbsp;&nbsp; c) Exercise #3 - Conversion to Farhenheit <br>\n",
    " &nbsp;&nbsp;&nbsp;&nbsp; d) Exercise #4 - Fibonacci Sequence <br>"
   ]
  },
  {
   "cell_type": "markdown",
   "metadata": {},
   "source": [
    "## Lambda Functions <br>\n",
    "<p>Lambda functions... or \"Anonymous Functions\" are referring to inline functions with no name. The keyword lambda denotes the no name function, and executes within a single line. Without saving it to a variable; however, it is not able to be used, unless passed in either as a paramater or within list comprehension.<br>Written as \"(keyword lambda) (one or more inputs) (colon) (function to be executed)\"</p>"
   ]
  },
  {
   "cell_type": "markdown",
   "metadata": {},
   "source": [
    "#### Syntax"
   ]
  },
  {
   "cell_type": "code",
   "execution_count": 1,
   "metadata": {},
   "outputs": [
    {
     "name": "stdout",
     "output_type": "stream",
     "text": [
      "12\n",
      "12\n"
     ]
    }
   ],
   "source": [
    "# lambda # --> this is a function with no name\n",
    "\n",
    "def addTwo(x):\n",
    "    return x + 2\n",
    "\n",
    "print(addTwo(10))\n",
    "\n",
    "# for lambda function syntax: --> syntax without saving to a variable\n",
    "\n",
    "lambda x: x + 2\n",
    "\n",
    "# to call a lambda funciton:\n",
    "print((lambda x: x + 2)(10))"
   ]
  },
  {
   "cell_type": "markdown",
   "metadata": {},
   "source": [
    "#### Saving to a Variable"
   ]
  },
  {
   "cell_type": "code",
   "execution_count": 2,
   "metadata": {},
   "outputs": [
    {
     "data": {
      "text/plain": [
       "12"
      ]
     },
     "execution_count": 2,
     "metadata": {},
     "output_type": "execute_result"
    }
   ],
   "source": [
    "l_test = lambda x: x + 2\n",
    "\n",
    "l_test(10)"
   ]
  },
  {
   "cell_type": "markdown",
   "metadata": {},
   "source": [
    "#### Multiple Inputs"
   ]
  },
  {
   "cell_type": "code",
   "execution_count": 3,
   "metadata": {},
   "outputs": [
    {
     "name": "stdout",
     "output_type": "stream",
     "text": [
      "60\n"
     ]
    },
    {
     "data": {
      "text/plain": [
       "60"
      ]
     },
     "execution_count": 3,
     "metadata": {},
     "output_type": "execute_result"
    }
   ],
   "source": [
    "# Multiple inputs with no variable\n",
    "\n",
    "print((lambda x, y, z: x * y * z)(2, 3, 10))\n",
    "\n",
    "\n",
    "# Multiple inputs with variable storing the function\n",
    "\n",
    "x_test = lambda x, y, z: x * y* z\n",
    "x_test(2, 3, 10)"
   ]
  },
  {
   "cell_type": "markdown",
   "metadata": {},
   "source": [
    "#### Passing a Lambda into a Function"
   ]
  },
  {
   "cell_type": "code",
   "execution_count": 4,
   "metadata": {},
   "outputs": [
    {
     "name": "stdout",
     "output_type": "stream",
     "text": [
      "16\n",
      "16\n"
     ]
    }
   ],
   "source": [
    "def multiply(f, num):\n",
    "    \"\"\"\n",
    "        f expects a lambda function \n",
    "        num expects a number (int or float)\n",
    "    \"\"\"\n",
    "    return f(num)\n",
    "\n",
    "print(multiply(lambda x: x**2, 4))  # f is the parameter (lambda x: x**2) while 4 is num, the other parameter\n",
    "\n",
    "# Function is performing the following actions \n",
    "\n",
    "f = lambda x: x**2 \n",
    "num = 4\n",
    "\n",
    "print(f(num)) # call f, passing in num"
   ]
  },
  {
   "cell_type": "markdown",
   "metadata": {},
   "source": [
    "#### Returning a Lambda from a Function"
   ]
  },
  {
   "cell_type": "code",
   "execution_count": 5,
   "metadata": {},
   "outputs": [
    {
     "data": {
      "text/plain": [
       "8"
      ]
     },
     "execution_count": 5,
     "metadata": {},
     "output_type": "execute_result"
    }
   ],
   "source": [
    "# Regular defined function \n",
    "\n",
    "def multiply_test(num):\n",
    "    return num * 4\n",
    "\n",
    "multiply_test(2)"
   ]
  },
  {
   "cell_type": "code",
   "execution_count": 6,
   "metadata": {},
   "outputs": [
    {
     "name": "stdout",
     "output_type": "stream",
     "text": [
      "<function returnFunc.<locals>.another at 0x000001D314C42670>\n",
      "8\n"
     ]
    }
   ],
   "source": [
    "# function within a function: \n",
    "\n",
    "def returnFunc(): # no parameters passed in\n",
    "    test = 4 # coule be multiple values and/or functionality \n",
    "    def another(num): # defined a function within returnFunc()\n",
    "        return num * 2\n",
    "    return another \n",
    "\n",
    "f_return = returnFunc()\n",
    "print(f_return)\n",
    "print(f_return(4))"
   ]
  },
  {
   "cell_type": "code",
   "execution_count": 7,
   "metadata": {},
   "outputs": [
    {
     "name": "stdout",
     "output_type": "stream",
     "text": [
      "19\n"
     ]
    }
   ],
   "source": [
    "# Lambda function return\n",
    "\n",
    "def returnLamb(b,c):\n",
    "    return lambda x,a: x + a + b + c\n",
    "\n",
    "\n",
    "r_lamb = returnLamb(4,5) # given b and c parameters\n",
    "print(r_lamb(5,5)) # now we are giving 5 and 5 parameters to x and a "
   ]
  },
  {
   "cell_type": "markdown",
   "metadata": {},
   "source": [
    "#### If Statements within Lambdas"
   ]
  },
  {
   "cell_type": "code",
   "execution_count": 8,
   "metadata": {},
   "outputs": [
    {
     "data": {
      "text/plain": [
       "11"
      ]
     },
     "execution_count": 8,
     "metadata": {},
     "output_type": "execute_result"
    }
   ],
   "source": [
    "# lambda x: (true condition) if statement else (False condition)\n",
    "\n",
    "def conditions(num):\n",
    "    if num > 10:\n",
    "        return num * 2\n",
    "    else:\n",
    "        return num + 2\n",
    "    \n",
    "conditions(9)"
   ]
  },
  {
   "cell_type": "code",
   "execution_count": 9,
   "metadata": {},
   "outputs": [
    {
     "name": "stdout",
     "output_type": "stream",
     "text": [
      "4\n",
      "30\n"
     ]
    }
   ],
   "source": [
    "# Lambda syntax for the function above\n",
    "\n",
    "f_condition = lambda x: x * 2 if x > 10 else x + 2\n",
    "\n",
    "print(f_condition(2))\n",
    "print(f_condition(15))"
   ]
  },
  {
   "cell_type": "markdown",
   "metadata": {},
   "source": [
    "#### In-Class Exercise #1 <br>\n",
    "<p>Write an anonymous function that cubes the arguments passed in and assign the anonymous function to a variable 'f'.</p>"
   ]
  },
  {
   "cell_type": "code",
   "execution_count": 10,
   "metadata": {},
   "outputs": [
    {
     "name": "stdout",
     "output_type": "stream",
     "text": [
      "27\n",
      "27\n"
     ]
    }
   ],
   "source": [
    "# Creating function way\n",
    "\n",
    "def anonymous(num):\n",
    "    return num**3\n",
    "print(anonymous(3))\n",
    "\n",
    "\n",
    "# Using lambda way\n",
    "\n",
    "f = lambda x: x ** 3\n",
    "print(f(3))\n"
   ]
  },
  {
   "cell_type": "markdown",
   "metadata": {},
   "source": [
    "## Map <br>\n",
    "<p>The map function allows you to iterate over an entire list while running a function on each item of the list. This is why the map function works well with lambda's, because it simplifies things and you write less lines of code.<br>The syntax for a map function is \"map(function to be used, list to be used)\"<br>However, you must be careful, as the map function returns a map object, not a list. To turn it into a list we use the list() type conversion.</p>"
   ]
  },
  {
   "cell_type": "markdown",
   "metadata": {},
   "source": [
    "#### Syntax"
   ]
  },
  {
   "cell_type": "code",
   "execution_count": 11,
   "metadata": {},
   "outputs": [
    {
     "name": "stdout",
     "output_type": "stream",
     "text": [
      "[(16, 16), (11, 10), (20, 3), (9, 4), (15, 6), (20, 10)]\n",
      "[64, 11, 20, 27, 15, 20]\n"
     ]
    }
   ],
   "source": [
    "# map(function can be either defined or lambda, iterable (list, set, dict, tuple))\n",
    "\n",
    "# predefined user functions and lambdas are both acceptable as the first param\n",
    "\n",
    "def squared(num, num2):\n",
    "    if num < 10 and num2 < 10:\n",
    "        return num ** 2, num2 ** 2\n",
    "    else:\n",
    "        return num, num2\n",
    "    \n",
    "squared(2,5)\n",
    "\n",
    "\n",
    "numbers = [4, 11, 20, 3, 15, 20]\n",
    "more_nums = [4, 10, 3, 2, 6, 10]\n",
    "\n",
    "# to map into the function above:\n",
    "\n",
    "squared_nums = list(map(squared, numbers, more_nums))\n",
    "print(squared_nums)\n",
    "\n",
    "\n",
    "# one iterable vs 2\n",
    "def cubed(num):\n",
    "    if num < 5:\n",
    "        return num ** 3\n",
    "    else:\n",
    "        return num\n",
    "    \n",
    "cubed_nums = list(map(cubed, numbers))\n",
    "print(cubed_nums)"
   ]
  },
  {
   "cell_type": "markdown",
   "metadata": {},
   "source": [
    "#### Using Lambda's with Map"
   ]
  },
  {
   "cell_type": "code",
   "execution_count": 12,
   "metadata": {},
   "outputs": [
    {
     "name": "stdout",
     "output_type": "stream",
     "text": [
      "[64, 11, 20, 27, 15, 20]\n",
      "[(16, 16), (11, 10), (20, 3), (9, 4), (15, 6), (20, 10)]\n"
     ]
    }
   ],
   "source": [
    "# map(lambda function, list or other iterable)\n",
    "\n",
    "# Single iterable version\n",
    "cubbed_nums_lab = list(map(lambda x: x**3 if x <5 else x, numbers)) # refers to cubed function\n",
    "print(cubbed_nums_lab)\n",
    "\n",
    "\n",
    "\n",
    "# Multiple iterables/inputs\n",
    "multiple_map = list(map((lambda x, y: (x**2, y**2) if x < 10 and y < 10 else (x,y)), numbers, more_nums)) # refers to squared function\n",
    "print(multiple_map)"
   ]
  },
  {
   "cell_type": "markdown",
   "metadata": {},
   "source": [
    "#### In-Class Exercise #2 <br>\n",
    "<p>Use the map function to double each number and minus it by one in the list by using a lambda function</p>"
   ]
  },
  {
   "cell_type": "code",
   "execution_count": 13,
   "metadata": {
    "scrolled": true
   },
   "outputs": [
    {
     "name": "stdout",
     "output_type": "stream",
     "text": [
      "(7, 7)\n",
      "[(7, 7), (21, 19), (39, 5), (5, 3), (29, 19), (39, 3)]\n"
     ]
    }
   ],
   "source": [
    "numbers = [4, 11, 20, 3, 15, 20]\n",
    "more_nums = [4, 10, 3, 2, 10 ,2]\n",
    "\n",
    "# Doing it the defined function way\n",
    "def math(num1, num2):\n",
    "    if num1 > 1 and num2 > 1:\n",
    "        return (num1 * 2)-1, (num2 * 2)-1\n",
    "    else:\n",
    "        return num1, num2\n",
    "print(math(4,4))\n",
    "\n",
    "\n",
    "# Doing it using map and lambda\n",
    "map_math = list(map((lambda x,y: ((x*2)-1, (y*2)-1) if x >1 and y >1 else (x,y)), numbers, more_nums))\n",
    "print(map_math)"
   ]
  },
  {
   "cell_type": "markdown",
   "metadata": {},
   "source": [
    "## Filter() <br>\n",
    "<p>Filter's are similar to the map function, where you're able to pass a function argument and a list argument and filter out something from the list based on the conditions passed. Similar to the map function, it returns a filter object, so you need to type convert it to a list()</p>"
   ]
  },
  {
   "cell_type": "markdown",
   "metadata": {},
   "source": [
    "#### Syntax"
   ]
  },
  {
   "cell_type": "code",
   "execution_count": 14,
   "metadata": {},
   "outputs": [
    {
     "name": "stdout",
     "output_type": "stream",
     "text": [
      "['Andy', 'Angelica']\n"
     ]
    }
   ],
   "source": [
    "# filter(function, iterable)\n",
    "names = [\"Bob\", \"Andy\", \"Max\", \"Angelica\", \"Derek\"]\n",
    "\n",
    "def a_names(name):\n",
    "    if name[0].lower() == 'a':\n",
    "        return True\n",
    "    else:\n",
    "        return False\n",
    "    \n",
    "new_names = list(filter(a_names, names))\n",
    "print(new_names)"
   ]
  },
  {
   "cell_type": "markdown",
   "metadata": {},
   "source": [
    "#### Using Lambda's with Filter()"
   ]
  },
  {
   "cell_type": "code",
   "execution_count": 15,
   "metadata": {},
   "outputs": [
    {
     "name": "stdout",
     "output_type": "stream",
     "text": [
      "['Andy', 'Angelica']\n"
     ]
    }
   ],
   "source": [
    "new_names_lamb = list(filter((lambda x: True if x[0].lower() == 'a' else False), names))\n",
    "print(new_names_lamb)"
   ]
  },
  {
   "cell_type": "markdown",
   "metadata": {},
   "source": [
    "#### In-Class Exercise #3 <br>\n",
    "<p>Filter out all the numbers that are below the mean of the list.<br><b>Hint: Import the 'statistics' module</b></p>"
   ]
  },
  {
   "cell_type": "code",
   "execution_count": 16,
   "metadata": {},
   "outputs": [
    {
     "name": "stdout",
     "output_type": "stream",
     "text": [
      "[2, 7, 4.2, 1.6, 9, 4.4, 4.9]\n",
      "4.728571428571429\n",
      "[2, 4.2, 1.6, 4.4]\n",
      "[2, 4.2, 1.6, 4.4]\n"
     ]
    }
   ],
   "source": [
    "from statistics import mean\n",
    "\n",
    "num = [2, 7, 4.2, 1.6, 9, 4.4, 4.9]\n",
    "mean = mean(num)\n",
    "\n",
    "print(num)\n",
    "print(mean)\n",
    "\n",
    "\n",
    "\n",
    "# defined function\n",
    "def compare(list_a):\n",
    "    if list_a < mean:\n",
    "        return True\n",
    "    else:\n",
    "        return False\n",
    "listing = list(filter(compare, num))\n",
    "print(listing)\n",
    "\n",
    "\n",
    "\n",
    "# Doing it using Lambda\n",
    "value = list(filter((lambda x: True if x <= mean else False), num))\n",
    "print(value)\n",
    "\n"
   ]
  },
  {
   "cell_type": "markdown",
   "metadata": {},
   "source": [
    "## Reduce() <br>\n",
    "<p>Be very careful when using this function, as of Python 3 it's been moved to the 'functools' library and no longer is a built-in function.<br>The creator of Python himself, says to just use a for loop instead.</p>"
   ]
  },
  {
   "cell_type": "markdown",
   "metadata": {},
   "source": [
    "#### Syntax"
   ]
  },
  {
   "cell_type": "code",
   "execution_count": 17,
   "metadata": {},
   "outputs": [
    {
     "name": "stdout",
     "output_type": "stream",
     "text": [
      "30\n",
      "30\n"
     ]
    }
   ],
   "source": [
    "from functools import reduce\n",
    "# reduce(function, iterable)\n",
    "\n",
    "list_1 = [2, 4, 6, 8, 10]\n",
    "\n",
    "def addNums(num, num2):\n",
    "    return num + num2\n",
    "added = reduce(addNums, list_1)\n",
    "print(added)\n",
    "\n",
    "\n",
    "# Regular loop of doing it:\n",
    "counter = 0\n",
    "for num in list_1:\n",
    "    counter += num\n",
    "print(counter)"
   ]
  },
  {
   "cell_type": "markdown",
   "metadata": {},
   "source": [
    "#### Using Lambda's with Reduce()"
   ]
  },
  {
   "cell_type": "code",
   "execution_count": 18,
   "metadata": {},
   "outputs": [
    {
     "name": "stdout",
     "output_type": "stream",
     "text": [
      "43\n"
     ]
    }
   ],
   "source": [
    "l_3 = [1, 10, 2, 30]\n",
    "\n",
    "reduce_lamb = reduce((lambda x,y: x+y), l_3)\n",
    "print(reduce_lamb)"
   ]
  },
  {
   "cell_type": "markdown",
   "metadata": {},
   "source": [
    "#### In-Class Exercise #4 <br>\n",
    "<p>Use the reduce function to multiply the numbers in the list below together with a lambda function.</p>"
   ]
  },
  {
   "cell_type": "code",
   "execution_count": 19,
   "metadata": {},
   "outputs": [
    {
     "name": "stdout",
     "output_type": "stream",
     "text": [
      "600\n"
     ]
    }
   ],
   "source": [
    "list_b = [1, 10, 2, 30]\n",
    "\n",
    "lamb = reduce((lambda x,y: x*y), list_b)\n",
    "print(lamb)"
   ]
  },
  {
   "cell_type": "markdown",
   "metadata": {},
   "source": [
    "## Recursion <br>\n",
    "<p>Recursion means that a function is calling itself, so it contanstly executes until a base case is reached. It will then push the returning values back up the chain until the function is complete. A prime example of recursion is computing factorials... such that 5! (factorial) is 5*4*3*2*1 which equals 120.</p>"
   ]
  },
  {
   "cell_type": "markdown",
   "metadata": {},
   "source": [
    "#### Implementing a Base Case"
   ]
  },
  {
   "cell_type": "code",
   "execution_count": 20,
   "metadata": {},
   "outputs": [
    {
     "name": "stdout",
     "output_type": "stream",
     "text": [
      "addNums(5) = 5 + addNums(4)\n",
      "addNums(4) = 4 + addNums(3)\n",
      "addNums(3) = 3 + addNums(2)\n",
      "addNums(2) = 2 + addNums(1)\n",
      "addNums(1) = 1\n",
      "15\n"
     ]
    }
   ],
   "source": [
    "# 5 + 4 + 3 + 2 + 1\n",
    "\n",
    "def addNums(num):\n",
    "    if num == 1:\n",
    "        print(\"addNums(1) = 1\")\n",
    "        return num\n",
    "    else:\n",
    "        print(f'addNums({num}) = {num} + addNums({num-1})')\n",
    "        return num + addNums(num-1)\n",
    "    \n",
    "print(addNums(5))"
   ]
  },
  {
   "cell_type": "markdown",
   "metadata": {},
   "source": [
    "#### Writing a Factorial Function"
   ]
  },
  {
   "cell_type": "code",
   "execution_count": 21,
   "metadata": {},
   "outputs": [
    {
     "name": "stdout",
     "output_type": "stream",
     "text": [
      "120\n"
     ]
    }
   ],
   "source": [
    "# 5 * 4 * 3 * 2 * 1\n",
    "\n",
    "def factorial(num):\n",
    "    if num == 1:\n",
    "        return 1\n",
    "    else:\n",
    "        return num * factorial(num-1) # first find 5 * 4, total *3, total * 2 until reaching 1\n",
    "    \n",
    "print(factorial(5))"
   ]
  },
  {
   "cell_type": "markdown",
   "metadata": {},
   "source": [
    "#### In-Class Exercise #5 <br>\n",
    "<p>Write a recursive function that subtracts all numbers to the argument given.</p>"
   ]
  },
  {
   "cell_type": "code",
   "execution_count": 22,
   "metadata": {},
   "outputs": [
    {
     "name": "stdout",
     "output_type": "stream",
     "text": [
      "3\n"
     ]
    }
   ],
   "source": [
    "# 5 - 4 - 3 - 2 - 1\n",
    "\n",
    "def minusNums(num):\n",
    "    if num == 1:\n",
    "        return num\n",
    "    else:\n",
    "        return num - minusNums(num-1)\n",
    "    \n",
    "print(minusNums(5))\n",
    "\n",
    "# order goes like this: 2-1 = 1 --> 3 - 1 = 2 --> 4 - 2 = 2 --> 5 - 2 = (3)"
   ]
  },
  {
   "cell_type": "markdown",
   "metadata": {},
   "source": [
    "## Generators <br>\n",
    "<p>Generators are a type of iterable, like lists or tuples. They do not allow indexing, but they can still be iterated through with for loops. They are created using functions and the yield statement.</p>"
   ]
  },
  {
   "cell_type": "markdown",
   "metadata": {},
   "source": [
    "#### Yield Keyword <br>\n",
    "<p>The yield keyword denotes a generator, it doesn't return so it won't leave the function and reset all variables in the function scope, instead it yields the number back to the caller.</p>"
   ]
  },
  {
   "cell_type": "code",
   "execution_count": 23,
   "metadata": {},
   "outputs": [
    {
     "name": "stdout",
     "output_type": "stream",
     "text": [
      "2\n",
      "4\n",
      "6\n",
      "8\n",
      "10\n",
      "12\n",
      "14\n",
      "16\n",
      "18\n",
      "==========\n",
      "32\n",
      "1024\n",
      "7776\n",
      "32768\n",
      "100000\n",
      "248832\n",
      "537824\n",
      "1048576\n",
      "1889568\n"
     ]
    }
   ],
   "source": [
    "def my_range(stop, start, step = 2):\n",
    "    while start < stop:\n",
    "        yield start # yield denotes this is a generator\n",
    "        start += step\n",
    "        \n",
    "for i in my_range(20, 2):\n",
    "    print(i)\n",
    "    \n",
    "print(\"=\"*10)\n",
    "\n",
    "# Can also play around with the functions inside\n",
    "def my_range(stop, start, step = 2):\n",
    "    while start < stop:\n",
    "        yield start**5 \n",
    "        start += step\n",
    "        \n",
    "for i in my_range(20, 2):\n",
    "    print(i)"
   ]
  },
  {
   "cell_type": "markdown",
   "metadata": {},
   "source": [
    "#### Infinite Generator"
   ]
  },
  {
   "cell_type": "code",
   "execution_count": 24,
   "metadata": {},
   "outputs": [],
   "source": [
    "# bad, never create infinite loops"
   ]
  },
  {
   "cell_type": "markdown",
   "metadata": {},
   "source": [
    "#### In-Class Exercise #6 <br>\n",
    "<p>Create a generator that takes a number argument and yields that number squared, then prints each number squared until zero is reached.</p>"
   ]
  },
  {
   "cell_type": "code",
   "execution_count": 25,
   "metadata": {},
   "outputs": [
    {
     "name": "stdout",
     "output_type": "stream",
     "text": [
      "25\n",
      "16\n",
      "9\n",
      "4\n",
      "1\n",
      "0\n"
     ]
    }
   ],
   "source": [
    "def my_range(stop, start, step):\n",
    "    while start >= stop:\n",
    "        yield start**2 \n",
    "        start -= step\n",
    "        \n",
    "for i in my_range(0, 5, 1):\n",
    "    print(i)"
   ]
  },
  {
   "cell_type": "markdown",
   "metadata": {},
   "source": [
    "# Exercises"
   ]
  },
  {
   "cell_type": "markdown",
   "metadata": {},
   "source": [
    "### Exercise #1 <br>\n",
    "<p>Filter out all of the empty strings from the list below</p>\n",
    "\n",
    "`Output: ['Argentina', 'San Diego', 'Boston', 'New York']`"
   ]
  },
  {
   "cell_type": "code",
   "execution_count": 26,
   "metadata": {},
   "outputs": [
    {
     "name": "stdout",
     "output_type": "stream",
     "text": [
      "['Argentina', 'San Diego', 'Boston', 'New York']\n",
      "['Argentina', 'San Diego', 'Boston', 'New York']\n"
     ]
    }
   ],
   "source": [
    "places = [\" \",\"Argentina\", \" \", \"San Diego\",\"\",\"  \",\"\",\"Boston\",\"New York\"]\n",
    "\n",
    "# use filter function\n",
    "# there is a way to strip away the white spaces\n",
    "# check conditionally if something is an empty string and filter base on that\n",
    "\n",
    "# Using defined function first\n",
    "def p1(select):\n",
    "    if select[:] == \" \" or select[:] == \"\" or select[:] == \"  \":\n",
    "        return False\n",
    "    else:\n",
    "        return True\n",
    "\n",
    "new_places = list(filter(p1, places))\n",
    "print(new_places)\n",
    "\n",
    "\n",
    "\n",
    "# Using lambda\n",
    "p2 = list(filter((lambda x: False if x[:] == \" \" or x[:] == \"\" or x[:] == \"  \" else True), places))\n",
    "print(p2)\n",
    "\n",
    "\n",
    "\n",
    "# Another way: hard coding the removal\n",
    "# while \"\" in places:\n",
    "#     (places.remove(\"\"))\n",
    "#     print(places)\n",
    "#     while \" \" in places:\n",
    "#         places.remove(\" \")\n",
    "#         print(places)\n",
    "#         while \"  \" in places:\n",
    "#             places.remove(\"  \")\n",
    "#             print(places)\n",
    "\n",
    "\n",
    "\n",
    "\n",
    "# Or using Regex if wanted to \n",
    "# import re\n",
    "# x = []\n",
    "# def name(list):\n",
    "#     search = re.compile('([A-Z][a-z]+)')\n",
    "#     for i in list:\n",
    "#         if search.match(i):\n",
    "#             x.append(i)\n",
    "            \n",
    "# name(places)\n",
    "# print(x)"
   ]
  },
  {
   "cell_type": "markdown",
   "metadata": {},
   "source": [
    "### Exercise #2 <br>\n",
    "<p>Write an anonymous function that sorts this list by the last name...<br><b>Hint: Use the \".sort()\" method and access the key\"</b></p>\n",
    "\n",
    "`Output: ['Victor aNisimov', 'Gary A.J. Bernstein', 'Joel Carter', 'Andrew P. Garfield', 'David hassELHOFF']`"
   ]
  },
  {
   "cell_type": "code",
   "execution_count": 27,
   "metadata": {},
   "outputs": [
    {
     "name": "stdout",
     "output_type": "stream",
     "text": [
      "['Victor aNisimov', 'Gary A.J. Bernstein', 'Joel Carter', 'Andrew P. Garfield', 'David hassELHOFF']\n"
     ]
    }
   ],
   "source": [
    "author = [\"Joel Carter\", \"Victor aNisimov\", \"Andrew P. Garfield\",\"David hassELHOFF\",\"Gary A.J. Bernstein\"]\n",
    "\n",
    "# regardless of casing, sort based on last name first\n",
    "\n",
    "# sorted(author)\n",
    "\n",
    "# \"Joel Joel Carter\" get C regardless of how long name is --> split into multiple lists --> \"Joel Carter\".split(\" \") \n",
    "\n",
    "# Using lambda with sorting\n",
    "\n",
    "print(sorted(author, key=lambda x: x.lower().split(\" \")[-1]))\n",
    "        \n",
    "\n",
    "# a = (\"Joel Carter\".split())[-1]\n",
    "# print(a) # --> because of [-1] index, we find the last index first\n",
    "# y = (\"Victor aNisimov\".split())\n",
    "# s = (\"Andrew P. Garfield\".split())\n",
    "# x = (\"David hassELHOFF\".split())\n",
    "# w = (\"Gary A.J. Bernstein\".split())\n",
    "# print(sorted(a))\n",
    "# print(sorted(y))\n",
    "# print(sorted(s))\n",
    "# print(sorted(x))\n",
    "# print(sorted(w))"
   ]
  },
  {
   "cell_type": "markdown",
   "metadata": {},
   "source": [
    "### Exercise #3 <br>\n",
    "<p>Convert the list below from Celsius to Farhenheit, using the map function with a lambda...</p>\n",
    "\n",
    "`Output: [('Nashua', 89.6), ('Boston', 53.6), ('Los Angelos', 111.2), ('Miami', 84.2)]\n",
    "`"
   ]
  },
  {
   "cell_type": "code",
   "execution_count": 28,
   "metadata": {},
   "outputs": [
    {
     "name": "stdout",
     "output_type": "stream",
     "text": [
      "53.6\n",
      "[('Nashua', 89.6), ('Boston', 53.6), ('Los Angelos', 111.2), ('Miami', 84.2)]\n"
     ]
    }
   ],
   "source": [
    "# F = (9/5)*C + 32\n",
    "places = [('Nashua',32),(\"Boston\",12),(\"Los Angelos\",44),(\"Miami\",29)]\n",
    "\n",
    "\n",
    "# Go one more step to get the numbers \n",
    "\n",
    "# Mapping\n",
    "\n",
    "def convert(num):\n",
    "    if num > 0:\n",
    "        return (9/5)*num + 32\n",
    "    else:\n",
    "        return num\n",
    "    \n",
    "print(convert(12))\n",
    "\n",
    "\n",
    "\n",
    "conversion =list(map(lambda x: (x[0], ((9/5)*x[1] + 32)), places))\n",
    "print(conversion)\n",
    "\n"
   ]
  },
  {
   "cell_type": "markdown",
   "metadata": {},
   "source": [
    "### Exercise #4 <br>\n",
    "<p>Write a recursion function to perform the fibonacci sequence up to the number passed in.</p>\n",
    "\n",
    "`Output for fib(5) => \n",
    "Iteration 0: 1\n",
    "Iteration 1: 1\n",
    "Iteration 2: 2\n",
    "Iteration 3: 3\n",
    "Iteration 4: 5\n",
    "Iteration 5: 8`"
   ]
  },
  {
   "cell_type": "code",
   "execution_count": 20,
   "metadata": {
    "scrolled": true
   },
   "outputs": [
    {
     "name": "stdout",
     "output_type": "stream",
     "text": [
      "fib(5) = fib(4) + fib(3)\n",
      "fib(4) = fib(3) + fib(2)\n",
      "fib(3) = fib(2) + fib(1)\n",
      "fib(2) = fib(1) + fib(0)\n",
      "fib(2) = fib(1) + fib(0)\n",
      "fib(3) = fib(2) + fib(1)\n",
      "fib(2) = fib(1) + fib(0)\n",
      "8\n"
     ]
    }
   ],
   "source": [
    "# Assume 0 and 1 will always = 1\n",
    "\n",
    "# Recursion\n",
    "\n",
    "def fib(num):\n",
    "    # base case \n",
    "    if num == 0 or num == 1:\n",
    "        return 1\n",
    "    \n",
    "    else:\n",
    "        print(f'fib({num}) = fib({num-1}) + fib({num-2})')\n",
    "        return fib(num-1) + fib(num-2)\n",
    "\n",
    "print(fib(5))\n",
    "\n"
   ]
  },
  {
   "cell_type": "code",
   "execution_count": null,
   "metadata": {},
   "outputs": [],
   "source": []
  }
 ],
 "metadata": {
  "kernelspec": {
   "display_name": "Python 3",
   "language": "python",
   "name": "python3"
  },
  "language_info": {
   "codemirror_mode": {
    "name": "ipython",
    "version": 3
   },
   "file_extension": ".py",
   "mimetype": "text/x-python",
   "name": "python",
   "nbconvert_exporter": "python",
   "pygments_lexer": "ipython3",
   "version": "3.9.5"
  }
 },
 "nbformat": 4,
 "nbformat_minor": 2
}
